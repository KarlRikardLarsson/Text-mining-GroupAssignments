{
  "cells": [
    {
      "cell_type": "markdown",
      "metadata": {
        "id": "MQ-C_oRZ4Qem"
      },
      "source": [
        "#Jonas Tollofsen, Rikard Larsson, Raees Khan & Christian Ulehla\n",
        "\n",
        "## Exercise 5 - Text Classification using pre-trained models"
      ]
    },
    {
      "cell_type": "code",
      "execution_count": null,
      "metadata": {
        "colab": {
          "base_uri": "https://localhost:8080/"
        },
        "id": "3XluuOR04Qeo",
        "outputId": "175c2a4d-e609-45c2-f429-267230ab97c0"
      },
      "outputs": [
        {
          "output_type": "stream",
          "name": "stdout",
          "text": [
            "False\n",
            "cpu\n"
          ]
        }
      ],
      "source": [
        "import torch\n",
        "import torch.nn as nn\n",
        "import torch.nn.functional as F\n",
        "import torch.optim as optim\n",
        "from torch.utils.data import DataLoader\n",
        "from torchtext.datasets import AG_NEWS\n",
        "import torchtext\n",
        "import matplotlib.pyplot as plt\n",
        "import numpy\n",
        "import random\n",
        "import gensim\n",
        "from sklearn.metrics import confusion_matrix, f1_score\n",
        "from gensim.models import KeyedVectors\n",
        "import gensim.downloader as api\n",
        "\n",
        "print(torch.cuda.is_available())\n",
        "device = torch.device(\"cuda:0\" if torch.cuda.is_available() else \"cpu\")\n",
        "print(device)"
      ]
    },
    {
      "cell_type": "markdown",
      "metadata": {
        "id": "ZktR0Rc74Qeq"
      },
      "source": [
        "## 1. Setting up the data\n"
      ]
    },
    {
      "cell_type": "code",
      "source": [
        "!pip install torchtext==0.8.1 ##requires torchtext 0.8.1 to run"
      ],
      "metadata": {
        "colab": {
          "base_uri": "https://localhost:8080/"
        },
        "id": "lQnWv0j66kf6",
        "outputId": "de2ac0de-8478-469b-9c75-659d580720f7"
      },
      "execution_count": null,
      "outputs": [
        {
          "output_type": "stream",
          "name": "stdout",
          "text": [
            "Looking in indexes: https://pypi.org/simple, https://us-python.pkg.dev/colab-wheels/public/simple/\n",
            "Requirement already satisfied: torchtext==0.8.1 in /usr/local/lib/python3.8/dist-packages (0.8.1)\n",
            "Requirement already satisfied: numpy in /usr/local/lib/python3.8/dist-packages (from torchtext==0.8.1) (1.21.6)\n",
            "Requirement already satisfied: requests in /usr/local/lib/python3.8/dist-packages (from torchtext==0.8.1) (2.23.0)\n",
            "Requirement already satisfied: torch==1.7.1 in /usr/local/lib/python3.8/dist-packages (from torchtext==0.8.1) (1.7.1)\n",
            "Requirement already satisfied: tqdm in /usr/local/lib/python3.8/dist-packages (from torchtext==0.8.1) (4.64.1)\n",
            "Requirement already satisfied: typing-extensions in /usr/local/lib/python3.8/dist-packages (from torch==1.7.1->torchtext==0.8.1) (4.4.0)\n",
            "Requirement already satisfied: urllib3!=1.25.0,!=1.25.1,<1.26,>=1.21.1 in /usr/local/lib/python3.8/dist-packages (from requests->torchtext==0.8.1) (1.24.3)\n",
            "Requirement already satisfied: chardet<4,>=3.0.2 in /usr/local/lib/python3.8/dist-packages (from requests->torchtext==0.8.1) (3.0.4)\n",
            "Requirement already satisfied: idna<3,>=2.5 in /usr/local/lib/python3.8/dist-packages (from requests->torchtext==0.8.1) (2.10)\n",
            "Requirement already satisfied: certifi>=2017.4.17 in /usr/local/lib/python3.8/dist-packages (from requests->torchtext==0.8.1) (2022.12.7)\n",
            "\u001b[31mERROR: Operation cancelled by user\u001b[0m\n"
          ]
        }
      ]
    },
    {
      "cell_type": "markdown",
      "metadata": {
        "id": "NkSU3emZ4Qer"
      },
      "source": [
        "#### AG News dataset"
      ]
    },
    {
      "cell_type": "code",
      "execution_count": null,
      "metadata": {
        "scrolled": true,
        "colab": {
          "base_uri": "https://localhost:8080/"
        },
        "id": "7F-Hf1H_4Qer",
        "outputId": "725e9d69-0620-4b82-b323-3703772f6e9c"
      },
      "outputs": [
        {
          "output_type": "stream",
          "name": "stderr",
          "text": [
            "ag_news_csv.tar.gz: 100%|██████████| 11.8M/11.8M [00:00<00:00, 24.2MB/s]\n",
            "120000lines [00:05, 20933.93lines/s]\n",
            "120000lines [00:11, 10876.41lines/s]\n",
            "7600lines [00:00, 10909.06lines/s]\n"
          ]
        }
      ],
      "source": [
        "## Download,tokenize, and index the AG News dataset\n",
        "# This is done in a separate cell as indexing takes some time\n",
        "\n",
        "ag_train, ag_test = AG_NEWS(ngrams=1, vocab=None, root='.')"
      ]
    },
    {
      "cell_type": "code",
      "execution_count": null,
      "metadata": {
        "scrolled": true,
        "id": "XcvvrUwY4Qes"
      },
      "outputs": [],
      "source": [
        "# Our labels are numbers, here's what type of article they represent\n",
        "ag_labels = {\n",
        "    0 : 'World',\n",
        "    1 : 'Sports',\n",
        "    2 : 'Business',\n",
        "    3 : 'Sci/Tec'\n",
        "}\n",
        "\n",
        "# vocab is a class that will give us the index for any given word/token (vocab['hi'] = <some number>)\n",
        "vocab = ag_train.get_vocab()\n",
        "\n",
        "# nr2word is a list that contains the actual tokens for a given index (nr2word[5678] = <some word/token>)\n",
        "nr2word = vocab.itos\n",
        "num_classes = len(ag_labels)\n",
        "\n",
        "# Let's make a function that takes an entire tensor and returns the string version of that tensor\n",
        "def tensor2text(tensor):\n",
        "    return ' '.join([nr2word[index] for index in tensor])\n",
        "\n",
        "# And a function to turn text into the indexed version (though it won't work with special characters)\n",
        "def text2tensor(text):\n",
        "    tensor = torch.Tensor([vocab[token] for token in text.split(' ')])\n",
        "    return tensor.int()"
      ]
    },
    {
      "cell_type": "markdown",
      "metadata": {
        "id": "vShqBB4A4Qet"
      },
      "source": [
        "## Bag of Words (BoW)\n"
      ]
    },
    {
      "cell_type": "code",
      "execution_count": null,
      "metadata": {
        "id": "8C04babX4Qet"
      },
      "outputs": [],
      "source": [
        "def bow_embedder(tensor, vocab_length):\n",
        "    tensor = tensor.long()\n",
        "    embedding = torch.zeros(vocab_length)\n",
        "    for x in tensor:\n",
        "        embedding[x] += 1\n",
        "    return embedding"
      ]
    },
    {
      "cell_type": "markdown",
      "metadata": {
        "id": "E4qmeOOr4Qet"
      },
      "source": [
        "### Training a news text classifier\n",
        "\n",
        "### Exercise 1: Create a neural network and the train and test loops, and get at least 80% accuracy on the test set."
      ]
    },
    {
      "cell_type": "code",
      "execution_count": null,
      "metadata": {
        "id": "PzGFqEG04Qet"
      },
      "outputs": [],
      "source": [
        "# We create our own dataset to load the BoW embedded texts\n",
        "class BoWDataset(torch.utils.data.Dataset):\n",
        "    def __init__(self, dataset, embedder):\n",
        "        self.dataset = dataset\n",
        "        self.embedder = embedder\n",
        "        \n",
        "    def __getitem__(self, index):\n",
        "        return self.dataset[index][0], self.embedder(self.dataset[index][1], len(vocab))\n",
        "  \n",
        "    def __len__(self):\n",
        "        return len(self.dataset)"
      ]
    },
    {
      "cell_type": "code",
      "execution_count": null,
      "metadata": {
        "id": "Ky3t5f3A4Qeu"
      },
      "outputs": [],
      "source": [
        "# Set up the train and test data using our custom BoWDataset and the DataLoader class\n",
        "bow_train_data = BoWDataset(ag_train, bow_embedder)\n",
        "bow_test_data = BoWDataset(ag_test, bow_embedder)\n",
        "bow_trainloader = DataLoader(bow_train_data, batch_size=1000, shuffle=True)\n",
        "bow_testloader = DataLoader(bow_test_data, batch_size=1000, shuffle=False)"
      ]
    },
    {
      "cell_type": "code",
      "execution_count": null,
      "metadata": {
        "id": "vQT_y7DF4Qeu"
      },
      "outputs": [],
      "source": [
        "#Define ANN\n",
        "network = nn.Sequential(\n",
        "    nn.Linear(\n",
        "        in_features=len(vocab), ## amount of neurons in the input layer is equal to the size of our vocabulary\n",
        "        out_features= 50,\n",
        "        bias=True,\n",
        "    ),\n",
        "\n",
        "    nn.ReLU(),\n",
        "\n",
        "    nn.Linear(\n",
        "        in_features=50,## 50 neurons in previous hidden layer\n",
        "        out_features=num_classes,\n",
        "        bias=True\n",
        "    ),\n",
        "\n",
        "    nn.Sigmoid(),\n",
        ").to(device) ##pushes NN to the current device (GPU or CPU)\n"
      ]
    },
    {
      "cell_type": "code",
      "execution_count": null,
      "metadata": {
        "id": "tLRuj8Zx4Qeu",
        "outputId": "8c0662cb-e23b-4b8f-c75b-6f17ba77c776",
        "colab": {
          "base_uri": "https://localhost:8080/"
        }
      },
      "outputs": [
        {
          "output_type": "stream",
          "name": "stdout",
          "text": [
            "Epoch 3 [120/120] - Loss: 0.8122487664222717"
          ]
        }
      ],
      "source": [
        "optimizer = torch.optim.Adam(network.parameters()) #Adam is a good standard for optimizers, used widely so a good baseline\n",
        "loss_function = nn.CrossEntropyLoss()\n",
        "epochs = 3\n",
        "\n",
        "#Run training\n",
        "for epoch in range(epochs):\n",
        "    # For each batch of data (since the dataset is too large to run all data through the network at once)\n",
        "    for batch_nr, (labels, data) in enumerate(bow_trainloader):\n",
        "\n",
        "      data = data.to(device)\n",
        "      labels = labels.to(device)\n",
        "\n",
        "      optimizer.zero_grad #zero the gradients, this ensure that pytorch can correctly calculate the gradients for the current epoch, as the old gradients will stick around \n",
        "\n",
        "      outputs = network(data) ## network makes predictions on the data in the mini batch (1000 examples per batch)\n",
        "      loss = loss_function(outputs, labels) ## calculates the loss based on the networks prediction vs the labels (i.e how bad / good did the network perform)\n",
        "\n",
        "      loss.backward() ## performs backpropagation\n",
        "      optimizer.step() #updates the weights based on the gradients\n",
        "\n",
        "      print(f'\\rEpoch {epoch+1} [{batch_nr+1}/{len(bow_trainloader)}] - Loss: {loss}',end='')"
      ]
    },
    {
      "cell_type": "markdown",
      "metadata": {
        "id": "0TL8WFiG4Qev"
      },
      "source": [
        "We should analyse the performance of our network besides the loss. Let's calculate the accuracy and the confusion matrix."
      ]
    },
    {
      "cell_type": "code",
      "execution_count": null,
      "metadata": {
        "id": "AUSF7atv4Qev",
        "outputId": "b589dee6-3208-4c94-e29b-cd819cc1ec35",
        "colab": {
          "base_uri": "https://localhost:8080/"
        }
      },
      "outputs": [
        {
          "output_type": "stream",
          "name": "stdout",
          "text": [
            "The accuracy of the network is 89.5%.\n"
          ]
        }
      ],
      "source": [
        "with torch.no_grad(): ## torch.no_grad tells pytorch to not calculate any gradients as pytorch will calculate gradients for each Tensor that has the argument .requires_grad set to True, which our Tensors do have \n",
        "    classes = [0, 1, 2, 3]\n",
        "    correct = 0\n",
        "    total = 0\n",
        "    y_pred = []\n",
        "    y_true = []\n",
        "    # For each batch of testing data (since the dataset is too large to run all data through the network at once)\n",
        "    # Calculate the accuracy\n",
        "    for batch_nr, (labels, data) in enumerate(bow_testloader):\n",
        "        labels = labels.to(device)\n",
        "        data = data.to(device)\n",
        "        prediction = network(data)\n",
        "        prediction = torch.argmax(prediction, dim=-1)\n",
        "        correct += sum(prediction==labels).item()\n",
        "        total += len(labels)\n",
        "        for pred in prediction:\n",
        "            y_pred.append(pred.to('cpu'))\n",
        "        for label in labels:    \n",
        "            y_true.append(label.to('cpu'))\n",
        "            \n",
        "    print(f'The accuracy of the network is {str(100*correct/total)[:4]}%.')\n",
        "    "
      ]
    },
    {
      "cell_type": "markdown",
      "metadata": {
        "id": "7T-bp2Cx4Qev"
      },
      "source": [
        "Accuracy is roughly 90%, which is pretty good! we can surely increase this a bit with a more complex model as this one is rather simple"
      ]
    },
    {
      "cell_type": "code",
      "execution_count": null,
      "metadata": {
        "id": "inaMZbab4Qew"
      },
      "outputs": [],
      "source": [
        "def plot_confusion_matrix(cm, classes,\n",
        "                          normalize=False,\n",
        "                          title='Confusion matrix',\n",
        "                          cmap=plt.cm.Blues):\n",
        "    import itertools\n",
        "    if normalize:\n",
        "        cm = cm.astype('float') / cm.sum(axis=1)[:, np.newaxis]\n",
        "        print(\"Normalized confusion matrix\")\n",
        "    else:\n",
        "        print('Confusion matrix, without normalization')\n",
        "\n",
        "    print(cm)\n",
        "\n",
        "    plt.imshow(cm, interpolation='nearest', cmap=cmap)\n",
        "    plt.title(title)\n",
        "    plt.colorbar()\n",
        "    tick_marks = numpy.arange(len(classes))\n",
        "    plt.xticks(tick_marks, classes, rotation=45)\n",
        "    plt.yticks(tick_marks, classes)\n",
        "\n",
        "    fmt = '.2f' if normalize else 'd'\n",
        "    thresh = cm.max() / 2.\n",
        "    for i, j in itertools.product(range(cm.shape[0]), range(cm.shape[1])):\n",
        "        plt.text(j, i, format(cm[i, j], fmt),\n",
        "                 horizontalalignment=\"center\",\n",
        "                 color=\"white\" if cm[i, j] > thresh else \"black\")\n",
        "\n",
        "    plt.ylabel('True label')\n",
        "    plt.xlabel('Predicted label')\n",
        "    plt.tight_layout()"
      ]
    },
    {
      "cell_type": "code",
      "execution_count": null,
      "metadata": {
        "id": "rX6Xvgaq4Qew",
        "outputId": "c4fd2991-6449-49a4-c0cc-2896a5ed3c18",
        "colab": {
          "base_uri": "https://localhost:8080/",
          "height": 411
        }
      },
      "outputs": [
        {
          "output_type": "stream",
          "name": "stdout",
          "text": [
            "F1 score on the test set:\n",
            "0.8954833250396007\n",
            "Confusion matrix, without normalization\n",
            "[[1703   60  107   30]\n",
            " [  12 1855   32    1]\n",
            " [  47   11 1763   79]\n",
            " [  84   22  307 1487]]\n"
          ]
        },
        {
          "output_type": "display_data",
          "data": {
            "text/plain": [
              "<Figure size 432x288 with 2 Axes>"
            ],
            "image/png": "[encoded data removed]"
          },
          "metadata": {
            "needs_background": "light"
          }
        }
      ],
      "source": [
        "cnf_matrix = confusion_matrix(y_true, y_pred,labels=[0, 1, 2, 3])\n",
        "numpy.set_printoptions(precision=2)\n",
        "print('F1 score on the test set:')\n",
        "print(f1_score(y_true, y_pred, average = 'weighted'))\n",
        "\n",
        "# Plot non-normalized confusion matrix\n",
        "plt.figure()\n",
        "plot_confusion_matrix(cnf_matrix, classes=['World', 'Sports', 'Business', 'Sci/Tec'],\n",
        "                      title='Confusion matrix, without normalization')"
      ]
    },
    {
      "cell_type": "markdown",
      "metadata": {
        "id": "hoTjZxDb4Qew"
      },
      "source": [
        "the network struggles mostly with differentiating between Business & Sci/Tec, this is an area where we can probably improve and which we should focus on to create a better model"
      ]
    },
    {
      "cell_type": "markdown",
      "metadata": {
        "id": "LVV3T27X4Qey"
      },
      "source": [
        "# Exercise 2: Training a FFNN with w2v"
      ]
    },
    {
      "cell_type": "code",
      "source": [
        "wv = api.load('word2vec-google-news-300')"
      ],
      "metadata": {
        "id": "S_f8QIc98vid"
      },
      "execution_count": null,
      "outputs": []
    },
    {
      "cell_type": "code",
      "execution_count": null,
      "metadata": {
        "id": "DCaAC9cU4Qez"
      },
      "outputs": [],
      "source": [
        "# We create our own dataset to load the w2v embedded texts\n",
        "class w2vDataset(torch.utils.data.Dataset):\n",
        "    def __init__(self, dataset, embedder):\n",
        "        self.dataset = dataset\n",
        "        self.embedder = embedder\n",
        "        \n",
        "    def __getitem__(self, index):\n",
        "        return self.dataset[index][0], self.embedder(self.dataset[index][1], 300)\n",
        "  \n",
        "    def __len__(self):\n",
        "        return len(self.dataset)"
      ]
    },
    {
      "cell_type": "markdown",
      "source": [
        "##**Exercise 2.1 & 2.3:** Create a w2v-embedder using our pre-trained w2v model and handle OOV and varying input length."
      ],
      "metadata": {
        "id": "OWPETuVF82fh"
      }
    },
    {
      "cell_type": "code",
      "execution_count": null,
      "metadata": {
        "id": "YsQnuFmd4Qe4"
      },
      "outputs": [],
      "source": [
        "def w2v_embedder(tensor, embedding_length):\n",
        "    tensor = tensor.long()\n",
        "\n",
        "    embedding = torch.zeros(embedding_length) # initializes the size of the embedding to be the same size as wv which is 300\n",
        "    \n",
        "    #iterates over each token in the text that was sent in through the argument \"tensor\"\n",
        "    for token in tensor:\n",
        "        try:\n",
        "            embedding += wv[nr2word[token]] ## translates the word index to the actual word and then gets the embedding for that word\n",
        "        except:\n",
        "            embedding += torch.zeros(embedding_length) ##If the word is OOV we just skip it, i.e we add 0 to the embeddings \n",
        "    \n",
        "    embedding = embedding / len(tensor) # divide embedding by the amount of words in the tensor, this ensures that a longer sentences doesn't overpower shorter sentences\n",
        "    return embedding"
      ]
    },
    {
      "cell_type": "markdown",
      "source": [
        "##**Exercise 2.2:** Describe three possible ways to deal with OOV-words and varying sentence length. What are the benefits and drawbacks of the methods you have described?\n",
        "\n",
        "###1 - FastText\n",
        "\n",
        "fastText is a library for text classification and word embeddings. It was created by (FAIR) Facebook's AI Research lab. The model can be used to create a supervised / unsupervised learning algorithm for obtaining vector representations for words.\n",
        "\n",
        "Benefits:\n",
        "\n",
        "- fastText has some benefits over other algorithms used for word embedding. It \n",
        "treats a word as consisting of n-grams of characters in comparisons of other word vectors such as Word2Vec which handles every word as the smallest unit and finds vector representation for every word. By character representation of a word, fastText can find vector representation for rare words. Rare words can be broken into character n-grams. These characters could share the n-grams with the common words. So, this technique is helpful in managing vector representation for words absent in dictionary (rare words). Character n-grams embeddings tend to outperform GloVe  and Word2Vec on smaller datasets (Bojanowski et al., 2017).\n",
        "- FastText has all the advantages of the Word2Vec process and improve the accuracy as well.\n",
        "- fastText is created with the goal to be an efficient CPU tool so that models could be trained without needing a GPU.\n",
        "- Works on many languages: FastText pretrained language model has support for 176 different languages.\n",
        "- It is an open-source, lightweight library and models can later be reduced to fit small devices e.g., mobile phones.\n",
        "- Another advantage is that it supports training continuous bag of words (CBOW) or Skip-gram models\n",
        "\n",
        "Drawback:\n",
        "\n",
        "- As we know that any model has pros and cons and fastText is no exception. One major drawback of this model is high memory requirement for an obvious reason that fastText model creates word-embedding from its characters instead of words. Though character embeddings can be controlled by using the maximum and minimum n-grams.\n",
        "- Although it brings additional utility to the embeddings, fastText also significantly slows down the process.\n",
        "- Comparatively, it takes longer time to train a FastText model (number of n-grams > number of words)\n",
        "- Currently fastText only works on CPU.\n",
        "\n",
        "References:\n",
        "Bojanowski, P., Grave, E., Joulin, A., & Mikolov, T. (2017). Enriching word vectors with subword information. Transactions of the Association for Computational Linguistics, 5, 135–146.\n",
        "\n",
        "## ELMO \n",
        "\n",
        "Benefits:\n",
        "\n",
        "ELMO which stands for “Embeddings from Language Model” (Peters et al., 2017) is another popular framework used for word embedding, developed at the Allen Institute for AI.\n",
        "•\tELMO addresses the issue that a same word can have different meaning, depending on the context. For example, let’s consider the word “stick” in the following two sentences:\n",
        "→\t“Can you fetch me the stick?”\n",
        "→\t“We will stick to our plan”\n",
        "Here using Word2Vec and GloVe word embeddings will generate the same meaning. This drawback has been addressed by the ELMO and will create different word vector based on the context used.\n",
        "•\tELMO uses bi-directional LSTM language model, which not only enable ELMO in understanding the next words but also the preceding ones.\n",
        "•\tAs noted above, ELMO like Word2Vec model, can predict the next likely word in the sentence. And if trained on a massive dataset, ELMO can recognize language pattern.\n",
        "•\tAnother characteristic that distinguishes ELMO from other traditional frameworks is that ELMO uses character embedding to map tokens to a representation.\n",
        "•\tSince LSTM network is used internally in ELMO, so only those OOV or rare words needs to be handled that are absent from the training dataset dictionary as ELMO creates character embeddings too which enables the network to use morphological clues for rare words tokens unnoticed in training.\n",
        "•\tELMO model generates vector representation on the fly i.e., at runtime.\n",
        "\n",
        "Drawbacks:\n",
        "\n",
        "•\tOne disadvantage of ELMO model is that though it takes into account the context of a particular word and generate two separate vectors, it simply concatenates the left-to-right and right-to-left information. Due to this, ELMO cannot take advantage of both left and right contexts concurrently. The good thing is that BERT has addressed this drawback of ELMO and looks all the words simultaneously.\n",
        "\n",
        "References:\n",
        "Bojanowski, P., Grave, E., Joulin, A., & Mikolov, T. (2017). Enriching word vectors with subword information. Transactions of the Association for Computational Linguistics, 5, 135–146.\n",
        "Peters, M. E., Ammar, W., Bhagavatula, C., & Power, R. (2017). Semi-supervised sequence tagging with bidirectional language models. ArXiv Preprint ArXiv:1705.00108.\n",
        " \n",
        "\n"
      ],
      "metadata": {
        "id": "rnpqDUxb9BLr"
      }
    },
    {
      "cell_type": "markdown",
      "metadata": {
        "id": "-31nwQbX4Qe5"
      },
      "source": [
        "\n",
        "\n",
        "##**Exercise 2.4**: Build a model that takes w2v-ecnodings of the AG-NEWS dataset as inputs and outputs AG-NEWS classes.\n"
      ]
    },
    {
      "cell_type": "code",
      "execution_count": null,
      "metadata": {
        "scrolled": true,
        "id": "pvHracJV4Qe5"
      },
      "outputs": [],
      "source": [
        "w2v_train_data = w2vDataset(ag_train, w2v_embedder)\n",
        "w2v_test_data = w2vDataset(ag_test, w2v_embedder)\n",
        "w2v_trainloader = DataLoader(w2v_train_data, batch_size=2000, shuffle=True, pin_memory=True)\n",
        "w2v_testloader = DataLoader(w2v_test_data, batch_size=1000, shuffle=False)\n",
        "\n",
        "embedding_length = 300  "
      ]
    },
    {
      "cell_type": "code",
      "execution_count": null,
      "metadata": {
        "id": "AxrSgpYY4Qe5"
      },
      "outputs": [],
      "source": [
        "#Define ANN\n",
        "network_w2v = nn.Sequential(\n",
        "    nn.Linear(\n",
        "        in_features=embedding_length, ## amount of neurons in the input layer is equal to the embedding length, i.e 300\n",
        "        out_features= 100,\n",
        "        bias=True,\n",
        "    ),\n",
        "\n",
        "    nn.ReLU(),\n",
        "\n",
        "    nn.Linear(\n",
        "        in_features=100,## 100 neurons in previous layer\n",
        "        out_features=50,\n",
        "        bias=True\n",
        "    ),\n",
        "\n",
        "      nn.ReLU(),\n",
        "\n",
        "    nn.Linear(\n",
        "        in_features=50,## 50 neurons in previous layer\n",
        "        out_features=num_classes,\n",
        "        bias=True\n",
        "    ),\n",
        "\n",
        "    nn.Sigmoid(),\n",
        ").to(device) ## push NN to device (GPU or CPU)"
      ]
    },
    {
      "cell_type": "code",
      "execution_count": null,
      "metadata": {
        "colab": {
          "base_uri": "https://localhost:8080/"
        },
        "id": "T7muwLqi4Qe5",
        "outputId": "655c85d7-59c8-4bf8-adf6-0a36f84b3813"
      },
      "outputs": [
        {
          "output_type": "stream",
          "name": "stdout",
          "text": [
            "Epoch 2 [60/60] - Loss: 0.9844510555267334"
          ]
        }
      ],
      "source": [
        "optimizer = torch.optim.Adam(network_w2v.parameters())\n",
        "loss_function = nn.CrossEntropyLoss()\n",
        "\n",
        "epochs = 2\n",
        "\n",
        "for epoch in range(epochs):\n",
        "    # For each batch of data (since the dataset is too large to run all data through the network at once)\n",
        "    for batch_nr, (labels, data) in enumerate(w2v_trainloader):\n",
        "      labels = labels.to(device)\n",
        "      data = data.to(device)\n",
        "\n",
        "      optimizer.zero_grad #zero the gradients, this ensure that pytorch can correctly calculate the gradients for the current epoch, as the old gradients will stick around \n",
        "      outputs = network_w2v(data) ## network makes predictions on the data in the mini batch (1000 examples per batch)\n",
        "      loss = loss_function(outputs, labels) ## calculates the loss based on the networks prediction vs the labels (i.e how bad / good did the network perform)\n",
        "      loss.backward() ## performs backpropagation\n",
        "      optimizer.step() #updates the weights based on the gradients\n",
        "\n",
        "      print(f'\\rEpoch {epoch+1} [{batch_nr+1}/{len(w2v_trainloader)}] - Loss: {loss}',end='')"
      ]
    },
    {
      "cell_type": "markdown",
      "metadata": {
        "id": "dC-dtKJ04Qe6"
      },
      "source": [
        "Let's once again calculate accuracy and the confusion matrix."
      ]
    },
    {
      "cell_type": "code",
      "execution_count": null,
      "metadata": {
        "colab": {
          "base_uri": "https://localhost:8080/"
        },
        "id": "ayjYBrH44Qe6",
        "outputId": "c9e99899-b9d2-4119-88b4-1549a011dbdc"
      },
      "outputs": [
        {
          "output_type": "stream",
          "name": "stdout",
          "text": [
            "The accuracy of the network is 82.0%.\n"
          ]
        }
      ],
      "source": [
        "with torch.no_grad():\n",
        "    classes = [0, 1, 2, 3]\n",
        "    correct = 0\n",
        "    total = 0\n",
        "    y_pred = []\n",
        "    y_true = []\n",
        "    # For each batch of testing data (since the dataset is too large to run all data through the network at once)\n",
        "    # Calculate the accuracy, precision and recall\n",
        "    for batch_nr, (labels, data) in enumerate(w2v_testloader):\n",
        "        labels = labels.to(device)\n",
        "        data = data.to(device)\n",
        "        prediction = network_w2v(data)\n",
        "        prediction = torch.argmax(prediction, dim=-1)\n",
        "        correct += sum(prediction==labels).item()\n",
        "        total += len(labels)\n",
        "        for pred in prediction:\n",
        "            y_pred.append(pred.to('cpu'))\n",
        "        for label in labels:    \n",
        "            y_true.append(label.to('cpu'))\n",
        "            \n",
        "    print(f'The accuracy of the network is {str(100*correct/total)[:4]}%.')"
      ]
    },
    {
      "cell_type": "code",
      "execution_count": null,
      "metadata": {
        "colab": {
          "base_uri": "https://localhost:8080/",
          "height": 411
        },
        "id": "ykwvQtjz4Qe6",
        "outputId": "f07dbf96-2562-4298-8dfd-72d54f5c5830"
      },
      "outputs": [
        {
          "output_type": "stream",
          "name": "stdout",
          "text": [
            "F1 score on the test set:\n",
            "0.8221255889967641\n",
            "Confusion matrix, without normalization\n",
            "[[1625   53  148   74]\n",
            " [ 115 1630   11  144]\n",
            " [ 111    8 1435  346]\n",
            " [  95   14  244 1547]]\n"
          ]
        },
        {
          "output_type": "display_data",
          "data": {
            "text/plain": [
              "<Figure size 432x288 with 2 Axes>"
            ],
            "image/png": "[encoded data removed]"
          },
          "metadata": {
            "needs_background": "light"
          }
        }
      ],
      "source": [
        "cnf_matrix = confusion_matrix(y_true, y_pred,labels=[0, 1, 2, 3])\n",
        "numpy.set_printoptions(precision=2)\n",
        "print('F1 score on the test set:')\n",
        "print(f1_score(y_true, y_pred, average = 'weighted'))\n",
        "\n",
        "# Plot non-normalized confusion matrix\n",
        "plt.figure()\n",
        "plot_confusion_matrix(cnf_matrix, classes=['World', 'Sports', 'Business', 'Sci/Tec'],\n",
        "                      title='Confusion matrix, without normalization')"
      ]
    },
    {
      "cell_type": "markdown",
      "source": [
        "#The network might not converge towards good performance depending on your solutions to 2.3. Why?\n",
        "\n",
        "The above network using word embeddings doesnt perform as good as the Feedforward network using BoW, but it still performs acceptable with an accuracy of 82%. This could probably be due to the fact that, even though we use word embeddings in this network, we basically just \"squished\" the whole sentence into a dense vector of 300 values, whereas the BoW implementation was sparse, but in that case still contained all the information. Essentially the only difference between the first NN and this one is that we took the sparse vector representaiton and squished it down into a vector of size 300 in an attempt to represent the same information.\n",
        "\n",
        "Although one thing that both of these implementations are lacking is the positional aspect of words, i.e where do we place each word? both the BoW and embedding version above does not take the placement of words into consideration, which RNNs can help us deal with below."
      ],
      "metadata": {
        "id": "TS76cHk4PiPc"
      }
    },
    {
      "cell_type": "markdown",
      "metadata": {
        "id": "5FgOwbGn4Qe6"
      },
      "source": [
        "# 3. Recurrent Neural Networks"
      ]
    },
    {
      "cell_type": "code",
      "execution_count": null,
      "metadata": {
        "id": "rBATedDn4Qe6"
      },
      "outputs": [],
      "source": [
        "# We create our own dataset to load the w2v embedded texts\n",
        "class rnnDataset(torch.utils.data.Dataset):\n",
        "    def __init__(self, dataset, embedder):\n",
        "        self.dataset = dataset\n",
        "        self.embedder = embedder\n",
        "        \n",
        "    def __getitem__(self, index):\n",
        "        return self.dataset[index][0], self.embedder(self.dataset[index][1], 300)\n",
        "  \n",
        "    def __len__(self):\n",
        "        return len(self.dataset)"
      ]
    },
    {
      "cell_type": "markdown",
      "metadata": {
        "id": "PUOsGBWs4Qe6"
      },
      "source": [
        "##**Exercise 3.1:** Implement an emedder for rnnDataset which takes an input tensor, transforms it to words->tokens->embeddings, then stores the embeddings while maintainin the structural integrity of the original sentences. <br>"
      ]
    },
    {
      "cell_type": "code",
      "execution_count": null,
      "metadata": {
        "id": "LRPMm2sc4Qe6"
      },
      "outputs": [],
      "source": [
        "def rnn_embedder(tensor, embedding_length=300):\n",
        "    tensor = tensor.long()\n",
        "    words = []\n",
        "\n",
        "    for token in tensor:\n",
        "      embedding = torch.zeros(embedding_length)\n",
        "      try:\n",
        "        embedding = wv[nr2word[token]]\n",
        "                       \n",
        "      except:\n",
        "        continue\n",
        "    \n",
        "      words.append(embedding) ##appends each word as a vector in order of occurence\n",
        "\n",
        "    return torch.Tensor(words) ##converts the list to a tensor"
      ]
    },
    {
      "cell_type": "code",
      "source": [
        "test = rnn_embedder(ag_train[4][1])\n",
        "test"
      ],
      "metadata": {
        "colab": {
          "base_uri": "https://localhost:8080/"
        },
        "id": "IAyFSf24AZXT",
        "outputId": "a078a20d-5462-471e-da66-a520e29608e1"
      },
      "execution_count": null,
      "outputs": [
        {
          "output_type": "execute_result",
          "data": {
            "text/plain": [
              "tensor([[-0.1396,  0.0623, -0.2793,  ...,  0.2041,  0.2354, -0.0510],\n",
              "        [-0.0261, -0.1113, -0.2637,  ...,  0.0244,  0.3301, -0.1133],\n",
              "        [ 0.1216,  0.0352, -0.3418,  ...,  0.0117,  0.1367, -0.0742],\n",
              "        ...,\n",
              "        [ 0.0299,  0.0564,  0.0037,  ..., -0.0242,  0.0109, -0.1475],\n",
              "        [-0.1201,  0.1826, -0.0044,  ..., -0.0312, -0.1050,  0.2734],\n",
              "        [-0.0415,  0.0598, -0.1250,  ..., -0.0033, -0.1260,  0.1777]])"
            ]
          },
          "metadata": {},
          "execution_count": 184
        }
      ]
    },
    {
      "cell_type": "markdown",
      "metadata": {
        "id": "8hrvKdT84Qe7"
      },
      "source": [
        "**Exercise 3.2:** Finish the implementation of our LSTM network class."
      ]
    },
    {
      "cell_type": "code",
      "execution_count": null,
      "metadata": {
        "id": "rExKfRcS4Qe7"
      },
      "outputs": [],
      "source": [
        "from torch.autograd import Variable \n",
        "\n",
        "class LSTM1(nn.Module):\n",
        "    def __init__(self, num_classes, input_size, hidden_size, num_layers):\n",
        "        super(LSTM1, self).__init__()\n",
        "        self.num_classes = num_classes #nr of classes\n",
        "        self.num_layers = num_layers #nr of layers\n",
        "        self.input_size = input_size #input size\n",
        "        self.hidden_size = hidden_size #hidden state\n",
        "        \n",
        "        self.lstm = nn.LSTM(input_size=input_size, hidden_size=hidden_size,\n",
        "                          num_layers=num_layers, batch_first=True) # LSTM layer\n",
        "        self.fc_1 =  nn.Linear(hidden_size, 64, bias=True) #First FC layer\n",
        "        self.fc = nn.Linear(64, num_classes, bias=True) # Final FC layer\n",
        "        self.relu = nn.ReLU()\n",
        "    \n",
        "    def forward(self,x):\n",
        "        h_0 = Variable(torch.zeros(self.num_layers, x.size(0), self.hidden_size)) #hidden state\n",
        "        c_0 = Variable(torch.zeros(self.num_layers, x.size(0), self.hidden_size)) #internal state\n",
        "\n",
        "        # Propagate input through LSTM\n",
        "        output, (hn, cn) = self.lstm(x, (h_0, c_0)) #lstm with input, hidden, and internal state\n",
        "        hn = hn.view(-1, self.hidden_size) #reshaping the data for Dense layer next\n",
        "        out = self.relu(hn)\n",
        "        out = self.fc_1(out) #first Dense\n",
        "        out = self.relu(out) #relu\n",
        "        out = self.fc(out) #Final Output\n",
        "        return out\n"
      ]
    },
    {
      "cell_type": "code",
      "execution_count": null,
      "metadata": {
        "id": "HcZmWmz14Qe7"
      },
      "outputs": [],
      "source": [
        "num_epochs = 2 #2 epochs\n",
        "learning_rate = 0.001 #0.001 lr\n",
        "\n",
        "# STUDENTCODE:\n",
        "## TASK: Insert the correct dimensions for our LSTM and FC layers by looking at the documentation for LSTM\n",
        "hidden_size = 100 #number of features in hidden state\n",
        "num_layers = 1 #number of stacked lstm layers\n",
        "embedding_length = 300\n",
        "num_classes = 4\n",
        "\n",
        "lstm1 = LSTM1(num_classes=num_classes, input_size=embedding_length, hidden_size=hidden_size, \n",
        "              num_layers=num_layers) #our lstm class"
      ]
    },
    {
      "cell_type": "code",
      "source": [
        "lstm1"
      ],
      "metadata": {
        "colab": {
          "base_uri": "https://localhost:8080/"
        },
        "id": "lr5LMVX69rHG",
        "outputId": "275c26bc-dba9-4946-f106-a103c13877f5"
      },
      "execution_count": null,
      "outputs": [
        {
          "output_type": "execute_result",
          "data": {
            "text/plain": [
              "LSTM1(\n",
              "  (lstm): LSTM(300, 100, batch_first=True)\n",
              "  (fc_1): Linear(in_features=100, out_features=64, bias=True)\n",
              "  (fc): Linear(in_features=64, out_features=4, bias=True)\n",
              "  (relu): ReLU()\n",
              ")"
            ]
          },
          "metadata": {},
          "execution_count": 187
        }
      ]
    },
    {
      "cell_type": "markdown",
      "metadata": {
        "id": "WqJmdnRZ4Qe7"
      },
      "source": [
        "Using our LSTM class and RNN dataloader, let's train out network and see how well it works.\n",
        "\n",
        "**Exercise 3.3:** Train the network to reach an accuracy of over 90%. <br>\n",
        "**Hint:** Consider starting with batch size = 1 or else data will have multiple sequence lengths. <br>\n",
        "Use torch.from_numpy to convert a numpy array to torch"
      ]
    },
    {
      "cell_type": "code",
      "execution_count": null,
      "metadata": {
        "id": "HiXp6gJr4Qe7"
      },
      "outputs": [],
      "source": [
        "optimizer_lstm = torch.optim.Adam(lstm1.parameters())\n",
        "loss_function = nn.CrossEntropyLoss()\n",
        "\n",
        "rnn_train_data = rnnDataset(ag_train, rnn_embedder)\n",
        "rnn_test_data = rnnDataset(ag_test, rnn_embedder)\n",
        "rnn_trainloader = DataLoader(rnn_train_data, batch_size=1, shuffle=True)\n",
        "rnn_testloader = DataLoader(rnn_test_data, batch_size=1, shuffle=False)"
      ]
    },
    {
      "cell_type": "code",
      "source": [
        "for epoch in range(num_epochs):\n",
        "    for batch_nr, (labels, data) in enumerate(rnn_trainloader):\n",
        "\n",
        "        outputs = lstm1.forward(data)\n",
        "        optimizer.zero_grad #zero the gradients, this ensure that pytorch can correctly calculate the gradients for the current epoch, as the old gradients will stick around \n",
        "\n",
        "        loss = loss_function(outputs, labels)## calculates the loss based on the networks prediction vs the labels (i.e how bad / good did the network perform)\n",
        "      \n",
        "        loss.backward() ## performs backpropagation\n",
        "        optimizer.step() #updates the weights based on the gradients\n",
        "\n",
        "        if batch_nr % 50 == 0:\n",
        "          print(f'\\rEpoch {epoch+1} [{batch_nr+1}/{len(rnn_trainloader)}] - Loss: {loss}',end='')\n",
        "\n",
        "    "
      ],
      "metadata": {
        "colab": {
          "base_uri": "https://localhost:8080/"
        },
        "id": "v2KVHpzb1E8A",
        "outputId": "b9e4bda6-f4b2-4949-fad7-0acbff8acc6a"
      },
      "execution_count": null,
      "outputs": [
        {
          "output_type": "stream",
          "name": "stdout",
          "text": [
            "Epoch 2 [119951/120000] - Loss: 1.426784634590149"
          ]
        }
      ]
    },
    {
      "cell_type": "markdown",
      "metadata": {
        "id": "g8dcmz4J4Qe7"
      },
      "source": [
        "Let's once again calculate accuracy and the confusion matrix.\n",
        "Calculate accuracy and confusion matrix. How well does your network perform? What could you do to improve accuracy further (you don't have to implement this)"
      ]
    },
    {
      "cell_type": "code",
      "execution_count": null,
      "metadata": {
        "colab": {
          "base_uri": "https://localhost:8080/"
        },
        "id": "Frb-Ey4-4Qe8",
        "outputId": "5b36a4cf-9adc-49fd-db28-93ec6468307a"
      },
      "outputs": [
        {
          "output_type": "stream",
          "name": "stdout",
          "text": [
            "The accuracy of the network is 25.0%.\n"
          ]
        }
      ],
      "source": [
        "with torch.no_grad():\n",
        "    classes = [0, 1, 2, 3]\n",
        "    correct = 0\n",
        "    total = 0\n",
        "    y_pred = []\n",
        "    y_true = []\n",
        "    # For each batch of testing data (since the dataset is too large to run all data through the network at once)\n",
        "    # Calculate the accuracy, precision and recall\n",
        "    for batch_nr, (labels, data) in enumerate(rnn_testloader):\n",
        "        prediction = lstm1(data)\n",
        "        prediction = torch.argmax(prediction, dim=-1)\n",
        "        correct += sum(prediction==labels).item()\n",
        "        total += len(labels)\n",
        "        for pred in prediction:\n",
        "            y_pred.append(pred)\n",
        "        for label in labels:    \n",
        "            y_true.append(label)\n",
        "            \n",
        "    print(f'The accuracy of the network is {str(100*correct/total)[:4]}%.')"
      ]
    },
    {
      "cell_type": "code",
      "execution_count": null,
      "metadata": {
        "colab": {
          "base_uri": "https://localhost:8080/",
          "height": 411
        },
        "id": "up6LSeB-4Qe8",
        "outputId": "7dd7cb8b-a14c-4a3f-c6f6-774757b49064"
      },
      "outputs": [
        {
          "output_type": "stream",
          "name": "stdout",
          "text": [
            "F1 score on the test set:\n",
            "0.1\n",
            "Confusion matrix, without normalization\n",
            "[[   0 1900    0    0]\n",
            " [   0 1900    0    0]\n",
            " [   0 1900    0    0]\n",
            " [   0 1900    0    0]]\n"
          ]
        },
        {
          "output_type": "display_data",
          "data": {
            "text/plain": [
              "<Figure size 432x288 with 2 Axes>"
            ],
            "image/png": "[encoded data removed]"
          },
          "metadata": {
            "needs_background": "light"
          }
        }
      ],
      "source": [
        "cnf_matrix = confusion_matrix(y_true, y_pred,labels=[0, 1, 2, 3])\n",
        "numpy.set_printoptions(precision=2)\n",
        "print('F1 score on the test set:')\n",
        "print(f1_score(y_true, y_pred, average = 'weighted'))\n",
        "\n",
        "# Plot non-normalized confusion matrix\n",
        "plt.figure()\n",
        "plot_confusion_matrix(cnf_matrix, classes=['World', 'Sports', 'Business', 'Sci/Tec'],\n",
        "                      title='Confusion matrix, without normalization')"
      ]
    }
  ],
  "metadata": {
    "kernelspec": {
      "display_name": "Python 3 (ipykernel)",
      "language": "python",
      "name": "python3"
    },
    "language_info": {
      "codemirror_mode": {
        "name": "ipython",
        "version": 3
      },
      "file_extension": ".py",
      "mimetype": "text/x-python",
      "name": "python",
      "nbconvert_exporter": "python",
      "pygments_lexer": "ipython3",
      "version": "3.9.13"
    },
    "colab": {
      "provenance": []
    },
    "accelerator": "GPU",
    "gpuClass": "standard"
  },
  "nbformat": 4,
  "nbformat_minor": 0
}